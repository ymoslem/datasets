{
  "nbformat": 4,
  "nbformat_minor": 0,
  "metadata": {
    "colab": {
      "provenance": [],
      "gpuType": "V28",
      "include_colab_link": true
    },
    "kernelspec": {
      "name": "python3",
      "display_name": "Python 3"
    },
    "language_info": {
      "name": "python"
    },
    "accelerator": "TPU",
    "widgets": {
      "application/vnd.jupyter.widget-state+json": {
        "c1f8c0fc0a4f47df88eac426bff6724c": {
          "model_module": "@jupyter-widgets/controls",
          "model_name": "HBoxModel",
          "model_module_version": "1.5.0",
          "state": {
            "_dom_classes": [],
            "_model_module": "@jupyter-widgets/controls",
            "_model_module_version": "1.5.0",
            "_model_name": "HBoxModel",
            "_view_count": null,
            "_view_module": "@jupyter-widgets/controls",
            "_view_module_version": "1.5.0",
            "_view_name": "HBoxView",
            "box_style": "",
            "children": [
              "IPY_MODEL_b3fd741315d04b3699fb8f0bb525e2dd",
              "IPY_MODEL_020b3900f4b44a9f9bbf4a9290e172bc",
              "IPY_MODEL_90ae1f8e079548a790b971a26aad6190"
            ],
            "layout": "IPY_MODEL_a473f7a8c88a424f920b18a71df8e992"
          }
        },
        "b3fd741315d04b3699fb8f0bb525e2dd": {
          "model_module": "@jupyter-widgets/controls",
          "model_name": "HTMLModel",
          "model_module_version": "1.5.0",
          "state": {
            "_dom_classes": [],
            "_model_module": "@jupyter-widgets/controls",
            "_model_module_version": "1.5.0",
            "_model_name": "HTMLModel",
            "_view_count": null,
            "_view_module": "@jupyter-widgets/controls",
            "_view_module_version": "1.5.0",
            "_view_name": "HTMLView",
            "description": "",
            "description_tooltip": null,
            "layout": "IPY_MODEL_5f699206eee74d229953b0da224ea42d",
            "placeholder": "​",
            "style": "IPY_MODEL_b464b5c92e654caab69076f57cbbcf1a",
            "value": "100%"
          }
        },
        "020b3900f4b44a9f9bbf4a9290e172bc": {
          "model_module": "@jupyter-widgets/controls",
          "model_name": "FloatProgressModel",
          "model_module_version": "1.5.0",
          "state": {
            "_dom_classes": [],
            "_model_module": "@jupyter-widgets/controls",
            "_model_module_version": "1.5.0",
            "_model_name": "FloatProgressModel",
            "_view_count": null,
            "_view_module": "@jupyter-widgets/controls",
            "_view_module_version": "1.5.0",
            "_view_name": "ProgressView",
            "bar_style": "success",
            "description": "",
            "description_tooltip": null,
            "layout": "IPY_MODEL_00f03d88a41c4174862e8bed71b5c2f4",
            "max": 5,
            "min": 0,
            "orientation": "horizontal",
            "style": "IPY_MODEL_e5e7f95c7c364260acdb2d86d0499e41",
            "value": 5
          }
        },
        "90ae1f8e079548a790b971a26aad6190": {
          "model_module": "@jupyter-widgets/controls",
          "model_name": "HTMLModel",
          "model_module_version": "1.5.0",
          "state": {
            "_dom_classes": [],
            "_model_module": "@jupyter-widgets/controls",
            "_model_module_version": "1.5.0",
            "_model_name": "HTMLModel",
            "_view_count": null,
            "_view_module": "@jupyter-widgets/controls",
            "_view_module_version": "1.5.0",
            "_view_name": "HTMLView",
            "description": "",
            "description_tooltip": null,
            "layout": "IPY_MODEL_05fe382978ca4b92afe039de8fd60eff",
            "placeholder": "​",
            "style": "IPY_MODEL_1ff39213748c4d68a7bad7b02b0d31b5",
            "value": " 5/5 [00:01&lt;00:00,  4.02it/s]"
          }
        },
        "a473f7a8c88a424f920b18a71df8e992": {
          "model_module": "@jupyter-widgets/base",
          "model_name": "LayoutModel",
          "model_module_version": "1.2.0",
          "state": {
            "_model_module": "@jupyter-widgets/base",
            "_model_module_version": "1.2.0",
            "_model_name": "LayoutModel",
            "_view_count": null,
            "_view_module": "@jupyter-widgets/base",
            "_view_module_version": "1.2.0",
            "_view_name": "LayoutView",
            "align_content": null,
            "align_items": null,
            "align_self": null,
            "border": null,
            "bottom": null,
            "display": null,
            "flex": null,
            "flex_flow": null,
            "grid_area": null,
            "grid_auto_columns": null,
            "grid_auto_flow": null,
            "grid_auto_rows": null,
            "grid_column": null,
            "grid_gap": null,
            "grid_row": null,
            "grid_template_areas": null,
            "grid_template_columns": null,
            "grid_template_rows": null,
            "height": null,
            "justify_content": null,
            "justify_items": null,
            "left": null,
            "margin": null,
            "max_height": null,
            "max_width": null,
            "min_height": null,
            "min_width": null,
            "object_fit": null,
            "object_position": null,
            "order": null,
            "overflow": null,
            "overflow_x": null,
            "overflow_y": null,
            "padding": null,
            "right": null,
            "top": null,
            "visibility": null,
            "width": null
          }
        },
        "5f699206eee74d229953b0da224ea42d": {
          "model_module": "@jupyter-widgets/base",
          "model_name": "LayoutModel",
          "model_module_version": "1.2.0",
          "state": {
            "_model_module": "@jupyter-widgets/base",
            "_model_module_version": "1.2.0",
            "_model_name": "LayoutModel",
            "_view_count": null,
            "_view_module": "@jupyter-widgets/base",
            "_view_module_version": "1.2.0",
            "_view_name": "LayoutView",
            "align_content": null,
            "align_items": null,
            "align_self": null,
            "border": null,
            "bottom": null,
            "display": null,
            "flex": null,
            "flex_flow": null,
            "grid_area": null,
            "grid_auto_columns": null,
            "grid_auto_flow": null,
            "grid_auto_rows": null,
            "grid_column": null,
            "grid_gap": null,
            "grid_row": null,
            "grid_template_areas": null,
            "grid_template_columns": null,
            "grid_template_rows": null,
            "height": null,
            "justify_content": null,
            "justify_items": null,
            "left": null,
            "margin": null,
            "max_height": null,
            "max_width": null,
            "min_height": null,
            "min_width": null,
            "object_fit": null,
            "object_position": null,
            "order": null,
            "overflow": null,
            "overflow_x": null,
            "overflow_y": null,
            "padding": null,
            "right": null,
            "top": null,
            "visibility": null,
            "width": null
          }
        },
        "b464b5c92e654caab69076f57cbbcf1a": {
          "model_module": "@jupyter-widgets/controls",
          "model_name": "DescriptionStyleModel",
          "model_module_version": "1.5.0",
          "state": {
            "_model_module": "@jupyter-widgets/controls",
            "_model_module_version": "1.5.0",
            "_model_name": "DescriptionStyleModel",
            "_view_count": null,
            "_view_module": "@jupyter-widgets/base",
            "_view_module_version": "1.2.0",
            "_view_name": "StyleView",
            "description_width": ""
          }
        },
        "00f03d88a41c4174862e8bed71b5c2f4": {
          "model_module": "@jupyter-widgets/base",
          "model_name": "LayoutModel",
          "model_module_version": "1.2.0",
          "state": {
            "_model_module": "@jupyter-widgets/base",
            "_model_module_version": "1.2.0",
            "_model_name": "LayoutModel",
            "_view_count": null,
            "_view_module": "@jupyter-widgets/base",
            "_view_module_version": "1.2.0",
            "_view_name": "LayoutView",
            "align_content": null,
            "align_items": null,
            "align_self": null,
            "border": null,
            "bottom": null,
            "display": null,
            "flex": null,
            "flex_flow": null,
            "grid_area": null,
            "grid_auto_columns": null,
            "grid_auto_flow": null,
            "grid_auto_rows": null,
            "grid_column": null,
            "grid_gap": null,
            "grid_row": null,
            "grid_template_areas": null,
            "grid_template_columns": null,
            "grid_template_rows": null,
            "height": null,
            "justify_content": null,
            "justify_items": null,
            "left": null,
            "margin": null,
            "max_height": null,
            "max_width": null,
            "min_height": null,
            "min_width": null,
            "object_fit": null,
            "object_position": null,
            "order": null,
            "overflow": null,
            "overflow_x": null,
            "overflow_y": null,
            "padding": null,
            "right": null,
            "top": null,
            "visibility": null,
            "width": null
          }
        },
        "e5e7f95c7c364260acdb2d86d0499e41": {
          "model_module": "@jupyter-widgets/controls",
          "model_name": "ProgressStyleModel",
          "model_module_version": "1.5.0",
          "state": {
            "_model_module": "@jupyter-widgets/controls",
            "_model_module_version": "1.5.0",
            "_model_name": "ProgressStyleModel",
            "_view_count": null,
            "_view_module": "@jupyter-widgets/base",
            "_view_module_version": "1.2.0",
            "_view_name": "StyleView",
            "bar_color": null,
            "description_width": ""
          }
        },
        "05fe382978ca4b92afe039de8fd60eff": {
          "model_module": "@jupyter-widgets/base",
          "model_name": "LayoutModel",
          "model_module_version": "1.2.0",
          "state": {
            "_model_module": "@jupyter-widgets/base",
            "_model_module_version": "1.2.0",
            "_model_name": "LayoutModel",
            "_view_count": null,
            "_view_module": "@jupyter-widgets/base",
            "_view_module_version": "1.2.0",
            "_view_name": "LayoutView",
            "align_content": null,
            "align_items": null,
            "align_self": null,
            "border": null,
            "bottom": null,
            "display": null,
            "flex": null,
            "flex_flow": null,
            "grid_area": null,
            "grid_auto_columns": null,
            "grid_auto_flow": null,
            "grid_auto_rows": null,
            "grid_column": null,
            "grid_gap": null,
            "grid_row": null,
            "grid_template_areas": null,
            "grid_template_columns": null,
            "grid_template_rows": null,
            "height": null,
            "justify_content": null,
            "justify_items": null,
            "left": null,
            "margin": null,
            "max_height": null,
            "max_width": null,
            "min_height": null,
            "min_width": null,
            "object_fit": null,
            "object_position": null,
            "order": null,
            "overflow": null,
            "overflow_x": null,
            "overflow_y": null,
            "padding": null,
            "right": null,
            "top": null,
            "visibility": null,
            "width": null
          }
        },
        "1ff39213748c4d68a7bad7b02b0d31b5": {
          "model_module": "@jupyter-widgets/controls",
          "model_name": "DescriptionStyleModel",
          "model_module_version": "1.5.0",
          "state": {
            "_model_module": "@jupyter-widgets/controls",
            "_model_module_version": "1.5.0",
            "_model_name": "DescriptionStyleModel",
            "_view_count": null,
            "_view_module": "@jupyter-widgets/base",
            "_view_module_version": "1.2.0",
            "_view_name": "StyleView",
            "description_width": ""
          }
        }
      }
    }
  },
  "cells": [
    {
      "cell_type": "markdown",
      "metadata": {
        "id": "view-in-github",
        "colab_type": "text"
      },
      "source": [
        "<a href=\"https://colab.research.google.com/github/ymoslem/datasets/blob/main/LongContextQE/Long-Context-MT-QE-WMT.ipynb\" target=\"_parent\"><img src=\"https://colab.research.google.com/assets/colab-badge.svg\" alt=\"Open In Colab\"/></a>"
      ]
    },
    {
      "cell_type": "code",
      "execution_count": null,
      "metadata": {
        "id": "x-iYDLMb01Jh"
      },
      "outputs": [],
      "source": [
        "!pip3 install datasets polars -q"
      ]
    },
    {
      "cell_type": "code",
      "source": [
        "from datasets import load_dataset\n",
        "\n",
        "dataset = load_dataset(\"ymoslem/wmt-da-human-evaluation\",\n",
        "                       )\n",
        "\n",
        "dataset"
      ],
      "metadata": {
        "colab": {
          "base_uri": "https://localhost:8080/"
        },
        "id": "MEH_xan605vj",
        "outputId": "ac3337cf-e143-471c-d5ca-bdff505f214e"
      },
      "execution_count": null,
      "outputs": [
        {
          "output_type": "execute_result",
          "data": {
            "text/plain": [
              "DatasetDict({\n",
              "    train: Dataset({\n",
              "        features: ['lp', 'src', 'mt', 'ref', 'score', 'raw', 'annotators', 'domain', 'year'],\n",
              "        num_rows: 1275190\n",
              "    })\n",
              "    test: Dataset({\n",
              "        features: ['lp', 'src', 'mt', 'ref', 'score', 'raw', 'annotators', 'domain', 'year'],\n",
              "        num_rows: 10000\n",
              "    })\n",
              "})"
            ]
          },
          "metadata": {},
          "execution_count": 2
        }
      ]
    },
    {
      "cell_type": "code",
      "source": [
        "df_train = dataset[\"train\"].to_polars()\n",
        "df_test = dataset[\"test\"].to_polars()\n",
        "\n",
        "print(f\"Train: {df_train.shape[0]:,} Test: {df_test.shape[0]:,}\")\n",
        "print(f\"Domains: {df_train['domain'].unique().to_list()}\")"
      ],
      "metadata": {
        "id": "Ztipwuaj1Xnj",
        "colab": {
          "base_uri": "https://localhost:8080/"
        },
        "outputId": "df42a67d-b95b-4214-a02d-75df01970943"
      },
      "execution_count": null,
      "outputs": [
        {
          "output_type": "stream",
          "name": "stdout",
          "text": [
            "Train: 1,275,190 Test: 10,000\n",
            "Domains: ['ecommerce', 'social', 'other', 'wiki', 'conversation', 'news']\n"
          ]
        }
      ]
    },
    {
      "cell_type": "code",
      "source": [
        "import polars as pl\n",
        "from random import randrange\n",
        "from tqdm.auto import tqdm\n",
        "\n",
        "\n",
        "def pair_sentences(df):\n",
        "  df1 = df.with_row_index()\n",
        "  df2 = df1.sample(fraction=1, shuffle=True)\n",
        "\n",
        "  group_columns = [\"lp\", \"domain\"]\n",
        "\n",
        "  # Group by language and domain\n",
        "  df1_groups = df1.group_by(group_columns).agg(pl.all()).sort(group_columns)\n",
        "  df2_groups = df2.group_by(group_columns).agg(pl.all()).sort(group_columns)\n",
        "\n",
        "  df_joined = df1_groups.join(df2_groups,\n",
        "                              on=group_columns,\n",
        "                              how=\"left\",\n",
        "                              suffix=\"_pair\")\n",
        "\n",
        "  df_paired = df_joined.explode(pl.exclude(group_columns))\n",
        "\n",
        "  # Filter out exact indices\n",
        "  df_paired = df_paired.filter(pl.col(\"index\") != pl.col(\"index_pair\"))\n",
        "\n",
        "  # Combine the sentences in each pair\n",
        "  df_paired = df_paired.with_columns([\n",
        "      (pl.col(\"src\") + \" \" + pl.col(\"src_pair\")).alias(\"src_doc\"),\n",
        "      (pl.col(\"ref\") + \" \" + pl.col(\"ref_pair\")).alias(\"ref_doc\"),\n",
        "      (pl.col(\"mt\") + \" \" + pl.col(\"mt_pair\")).alias(\"mt_doc\"),\n",
        "  ])\n",
        "\n",
        "  # Compute weighted averaged score\n",
        "  df_scored = df_paired.with_columns(\n",
        "      # Compute word counts\n",
        "      (\n",
        "          pl.col(\"src\").str.len_chars() + pl.col(\"mt\").str.len_chars()\n",
        "      ).alias(\"char_count_1\"),\n",
        "      (\n",
        "          pl.col(\"src_pair\").str.len_chars() + pl.col(\"mt_pair\").str.len_chars()\n",
        "      ).alias(\"char_count_2\")\n",
        "  ).with_columns(\n",
        "      # Weighted score by character count\n",
        "      (\n",
        "          (pl.col(\"char_count_1\") * pl.col(\"raw\") + pl.col(\"char_count_2\") * pl.col(\"raw_pair\"))\n",
        "          /\n",
        "          (pl.col(\"char_count_1\") + pl.col(\"char_count_2\"))\n",
        "      ).alias(\"raw_doc\")\n",
        "  )\n",
        "\n",
        "  columns_to_keep = ['lp','src_doc', 'mt_doc', 'ref_doc', 'raw_doc', 'domain', 'year']\n",
        "  df_scored = df_scored.select(columns_to_keep)\n",
        "  df_scored = df_scored.rename({\"src_doc\": \"src\",\n",
        "                                \"mt_doc\": \"mt\",\n",
        "                                \"ref_doc\": \"ref\",\n",
        "                                \"raw_doc\": \"raw\"})\n",
        "\n",
        "  return df_scored\n",
        "\n",
        "\n",
        "def process(df_scored, iterations):\n",
        "\n",
        "  df_scored = df_scored.with_columns(sents = 1)\n",
        "  df_scored = df_scored.drop(\"score\", \"annotators\")\n",
        "\n",
        "  dfs = [df_scored]\n",
        "  count = 1\n",
        "\n",
        "  for i in tqdm(range(iterations)):\n",
        "    df_scored = pair_sentences(df_scored)\n",
        "    count += count\n",
        "    df_scored = df_scored.with_columns(sents = count)\n",
        "    dfs.append(df_scored)\n",
        "\n",
        "  dfs_scored_concatenated = pl.concat(dfs)\n",
        "\n",
        "  return dfs_scored_concatenated"
      ],
      "metadata": {
        "id": "GJfKWvWAeN5A"
      },
      "execution_count": null,
      "outputs": []
    },
    {
      "cell_type": "code",
      "source": [
        "# create the long-context train dataset\n",
        "df_scored_train = process(df_train, 5)"
      ],
      "metadata": {
        "id": "pk7DCAdsFu9E"
      },
      "execution_count": null,
      "outputs": []
    },
    {
      "cell_type": "code",
      "source": [
        "# create the long-context test dataset\n",
        "df_scored_test = process(df_test, 5)\n",
        "\n",
        "# show 3 random rows\n",
        "with pl.Config(set_fmt_str_lengths=300):\n",
        "  display(df_scored_test.sample(n=3))"
      ],
      "metadata": {
        "id": "wypWkUi4FuQp",
        "colab": {
          "base_uri": "https://localhost:8080/",
          "height": 832,
          "referenced_widgets": [
            "c1f8c0fc0a4f47df88eac426bff6724c",
            "b3fd741315d04b3699fb8f0bb525e2dd",
            "020b3900f4b44a9f9bbf4a9290e172bc",
            "90ae1f8e079548a790b971a26aad6190",
            "a473f7a8c88a424f920b18a71df8e992",
            "5f699206eee74d229953b0da224ea42d",
            "b464b5c92e654caab69076f57cbbcf1a",
            "00f03d88a41c4174862e8bed71b5c2f4",
            "e5e7f95c7c364260acdb2d86d0499e41",
            "05fe382978ca4b92afe039de8fd60eff",
            "1ff39213748c4d68a7bad7b02b0d31b5"
          ]
        },
        "outputId": "bad6dae6-a1d0-4210-8406-e74dba134f56"
      },
      "execution_count": null,
      "outputs": [
        {
          "output_type": "display_data",
          "data": {
            "text/plain": [
              "  0%|          | 0/5 [00:00<?, ?it/s]"
            ],
            "application/vnd.jupyter.widget-view+json": {
              "version_major": 2,
              "version_minor": 0,
              "model_id": "c1f8c0fc0a4f47df88eac426bff6724c"
            }
          },
          "metadata": {}
        },
        {
          "output_type": "display_data",
          "data": {
            "text/plain": [
              "shape: (3, 8)\n",
              "┌───────┬──────────────────┬──────────────────┬─────────────────┬──────────┬────────┬──────┬───────┐\n",
              "│ lp    ┆ src              ┆ mt               ┆ ref             ┆ raw      ┆ domain ┆ year ┆ sents │\n",
              "│ ---   ┆ ---              ┆ ---              ┆ ---             ┆ ---      ┆ ---    ┆ ---  ┆ ---   │\n",
              "│ str   ┆ str              ┆ str              ┆ str             ┆ f64      ┆ str    ┆ i64  ┆ i32   │\n",
              "╞═══════╪══════════════════╪══════════════════╪═════════════════╪══════════╪════════╪══════╪═══════╡\n",
              "│ de-en ┆ Flüchtlingsboot  ┆ Refugee boat     ┆ Refugee Boat    ┆ 0.547435 ┆ news   ┆ 2020 ┆ 16    │\n",
              "│       ┆ gekentert: Baby  ┆ capsized: Baby   ┆ Capsized: Baby  ┆          ┆        ┆      ┆       │\n",
              "│       ┆ und Kleinkinder  ┆ and toddlers     ┆ and Small       ┆          ┆        ┆      ┆       │\n",
              "│       ┆ ertrinken in     ┆ drown in Aegean  ┆ Children Drown  ┆          ┆        ┆      ┆       │\n",
              "│       ┆ Ägäis Inzwischen ┆ Sea Meanwhile,   ┆ in the Aegean   ┆          ┆        ┆      ┆       │\n",
              "│       ┆ ist diese        ┆ this event has   ┆ This event has  ┆          ┆        ┆      ┆       │\n",
              "│       ┆ Veranstaltung    ┆ become an        ┆ now become a    ┆          ┆        ┆      ┆       │\n",
              "│       ┆ ein fester       ┆ integral part of ┆ fixture in the  ┆          ┆        ┆      ┆       │\n",
              "│       ┆ Bestandteil im   ┆ the musical      ┆ musical event   ┆          ┆        ┆      ┆       │\n",
              "│       ┆ musikalischen    ┆ event calendar   ┆ calendar in     ┆          ┆        ┆      ┆       │\n",
              "│       ┆ Veranstaltungska ┆ in Nottuln, \"is  ┆ Nottuln,” says  ┆          ┆        ┆      ┆       │\n",
              "│       ┆ lender in        ┆ pleased to be    ┆ Hanns Moormann, ┆          ┆        ┆      ┆       │\n",
              "│       ┆ Nottuln          ┆ the chairman of  ┆ chairman of the ┆          ┆        ┆      ┆       │\n",
              "│       ┆ geworden\", freut ┆ the Nottulner    ┆ Nottuln Home    ┆          ┆        ┆      ┆       │\n",
              "│       ┆ sich Hanns       ┆ Home             ┆ Association,    ┆          ┆        ┆      ┆       │\n",
              "│       ┆ Moormann,        ┆ Association. The ┆ pleased. Since  ┆          ┆        ┆      ┆       │\n",
              "│       ┆ Vorsitzender des ┆ 57-year-old has  ┆ the beginning   ┆          ┆        ┆      ┆       │\n",
              "│       ┆ Nottulner        ┆ been coaching    ┆ of September    ┆          ┆        ┆      ┆       │\n",
              "│       ┆ Heimatvereins.   ┆ the Mexican club ┆ the 57-year-old ┆          ┆        ┆      ┆       │\n",
              "│       ┆ Der 57-Jährige   ┆ since early      ┆ has been        ┆          ┆        ┆      ┆       │\n",
              "│       ┆ trainiert den    ┆ September.       ┆ training the    ┆          ┆        ┆      ┆       │\n",
              "│       ┆ mexikanischen C… ┆ Accordi…         ┆ Mexican clu…    ┆          ┆        ┆      ┆       │\n",
              "│ de-en ┆ Spannung vor     ┆ Tension before   ┆ Tensions before ┆ 0.71529  ┆ news   ┆ 2021 ┆ 16    │\n",
              "│       ┆ Ratssitzung:     ┆ council meeting: ┆ the council     ┆          ┆        ┆      ┆       │\n",
              "│       ┆ City-Ost und     ┆ City-Ost and     ┆ meeting:        ┆          ┆        ┆      ┆       │\n",
              "│       ┆ Lärmschutz       ┆ noise protection ┆ City-East and   ┆          ┆        ┆      ┆       │\n",
              "│       ┆ stehen noch vor  ┆ are still up for ┆ noise           ┆          ┆        ┆      ┆       │\n",
              "│       ┆ großer           ┆ discussion       ┆ protection are  ┆          ┆        ┆      ┆       │\n",
              "│       ┆ Sommerpause zur  ┆ before the big   ┆ still up for    ┆          ┆        ┆      ┆       │\n",
              "│       ┆ Diskussion Nach  ┆ summer break     ┆ debate before   ┆          ┆        ┆      ┆       │\n",
              "│       ┆ Angaben der      ┆ According to the ┆ the long summer ┆          ┆        ┆      ┆       │\n",
              "│       ┆ Feuerwehr war am ┆ fire service, an ┆ break.          ┆          ┆        ┆      ┆       │\n",
              "│       ┆ Mittwoch         ┆ injured person   ┆ According to    ┆          ┆        ┆      ┆       │\n",
              "│       ┆ (Ortszeit) noch  ┆ was still in     ┆ information     ┆          ┆        ┆      ┆       │\n",
              "│       ┆ ein Verletzter   ┆ critical         ┆ from the fire   ┆          ┆        ┆      ┆       │\n",
              "│       ┆ in kritischem    ┆ condition on     ┆ department, one ┆          ┆        ┆      ┆       │\n",
              "│       ┆ Zustand. Neues   ┆ Wednesday (local ┆ injured person  ┆          ┆        ┆      ┆       │\n",
              "│       ┆ Überschallflugze ┆ time). New       ┆ was still in a  ┆          ┆        ┆      ┆       │\n",
              "│       ┆ ug soll 2030     ┆ supersonic plane ┆ critical        ┆          ┆        ┆      ┆       │\n",
              "│       ┆ fliegen: In      ┆ to fly in 2030:  ┆ condition on    ┆          ┆        ┆      ┆       │\n",
              "│       ┆ viereinhalb      ┆ From London to   ┆ Wednesday       ┆          ┆        ┆      ┆       │\n",
              "│       ┆ Stunden von      ┆ Sydney in four   ┆ (local time).   ┆          ┆        ┆      ┆       │\n",
              "│       ┆ London nach      ┆ and a h…         ┆ New Supersonic  ┆          ┆        ┆      ┆       │\n",
              "│       ┆ Sydney Ein       ┆                  ┆ Aircraft to fly ┆          ┆        ┆      ┆       │\n",
              "│       ┆ Zuspiel v…       ┆                  ┆ in 2030: Four   ┆          ┆        ┆      ┆       │\n",
              "│       ┆                  ┆                  ┆ an…             ┆          ┆        ┆      ┆       │\n",
              "│ zh-en ┆ 巴姆表示：“这是  ┆ \"This is a       ┆ \"A cultural     ┆ 0.736477 ┆ news   ┆ 2017 ┆ 32    │\n",
              "│       ┆ 一次文化、心态和 ┆ cultural,        ┆ change, a       ┆          ┆        ┆      ┆       │\n",
              "│       ┆ 实质上的改变。”  ┆ psychological    ┆ mental change,  ┆          ┆        ┆      ┆       │\n",
              "│       ┆ 摩洛哥司法部门正 ┆ and substantive  ┆ a physical      ┆          ┆        ┆      ┆       │\n",
              "│       ┆ 在对此案展开进一 ┆ change,\" said    ┆ change,\" Bam    ┆          ┆        ┆      ┆       │\n",
              "│       ┆ 步调查。 正因如  ┆ Bam. The         ┆ said. The       ┆          ┆        ┆      ┆       │\n",
              "│       ┆ 此，法国媒体评价 ┆ Moroccan         ┆ judicial        ┆          ┆        ┆      ┆       │\n",
              "│       ┆ 他是“法国在世界  ┆ judicial         ┆ department of   ┆          ┆        ┆      ┆       │\n",
              "│       ┆ 舞台上的杰出代表 ┆ department is    ┆ Morocco is      ┆          ┆        ┆      ┆       │\n",
              "│       ┆ ” 。 遭到驱逐后  ┆ launching a      ┆ conducting      ┆          ┆        ┆      ┆       │\n",
              "│       ┆ ，这家人一直在搬 ┆ further          ┆ further         ┆          ┆        ┆      ┆       │\n",
              "│       ┆ 家，据说目前住在 ┆ investigation    ┆ investigations  ┆          ┆        ┆      ┆       │\n",
              "│       ┆ 私人住宅 完成该  ┆ into the case.   ┆ into this case. ┆          ┆        ┆      ┆       │\n",
              "│       ┆ 项作业需把北部高 ┆ For this reason, ┆ For this        ┆          ┆        ┆      ┆       │\n",
              "│       ┆ 架引桥南移700毫  ┆ the French media ┆ reason, the     ┆          ┆        ┆      ┆       │\n",
              "│       ┆ 米。 他提及，香  ┆ rated him as \"an ┆ French media    ┆          ┆        ┆      ┆       │\n",
              "│       ┆ 港今年第二季度经 ┆ outstanding      ┆ hailed him as   ┆          ┆        ┆      ┆       │\n",
              "│       ┆ 济状况仍十分严峻 ┆ representative   ┆ \"France's       ┆          ┆        ┆      ┆       │\n",
              "│       ┆ ，但收缩的态势似 ┆ of France on the ┆ outstanding     ┆          ┆        ┆      ┆       │\n",
              "│       ┆ 乎略为放缓。 刘  ┆ world stage\".    ┆ representative  ┆          ┆        ┆      ┆       │\n",
              "│       ┆ 长宝说，为避免索 ┆ After being      ┆ in the          ┆          ┆        ┆      ┆       │\n",
              "│       ┆ 头端位置出现重叠 ┆ exported, the    ┆ international   ┆          ┆        ┆      ┆       │\n",
              "│       ┆ 和“打架”等问题， ┆ family had…      ┆ arena.\" The     ┆          ┆        ┆      ┆       │\n",
              "│       ┆ 还将创新采用“双  ┆                  ┆ family have now ┆          ┆        ┆      ┆       │\n",
              "│       ┆ 叉耳”索头结构，  ┆                  ┆ been moved …    ┆          ┆        ┆      ┆       │\n",
              "│       ┆ 通过特制的固定插 ┆                  ┆                 ┆          ┆        ┆      ┆       │\n",
              "│       ┆ 件确保“打架”的索 ┆                  ┆                 ┆          ┆        ┆      ┆       │\n",
              "│       ┆ 头收束在正确的位 ┆                  ┆                 ┆          ┆        ┆      ┆       │\n",
              "│       ┆ 置。 为确保通航  ┆                  ┆                 ┆          ┆        ┆      ┆       │\n",
              "│       ┆ 安全，重庆海事部 ┆                  ┆                 ┆          ┆        ┆      ┆       │\n",
              "│       ┆ 门决定，对长江界 ┆                  ┆                 ┆          ┆        ┆      ┆       │\n",
              "│       ┆ 石盘至观音滩水域 ┆                  ┆                 ┆          ┆        ┆      ┆       │\n",
              "│       ┆ 实施临时交通管制 ┆                  ┆                 ┆          ┆        ┆      ┆       │\n",
              "│       ┆ 。。 自去年以来  ┆                  ┆                 ┆          ┆        ┆      ┆       │\n",
              "│       ┆ ，国电集团共计有 ┆                  ┆                 ┆          ┆        ┆      ┆       │\n",
              "│       ┆ 163套风电项目陆  ┆                  ┆                 ┆          ┆        ┆      ┆       │\n",
              "│       ┆ 续从连云港…      ┆                  ┆                 ┆          ┆        ┆      ┆       │\n",
              "└───────┴──────────────────┴──────────────────┴─────────────────┴──────────┴────────┴──────┴───────┘"
            ],
            "text/html": [
              "<div><style>\n",
              ".dataframe > thead > tr,\n",
              ".dataframe > tbody > tr {\n",
              "  text-align: right;\n",
              "  white-space: pre-wrap;\n",
              "}\n",
              "</style>\n",
              "<small>shape: (3, 8)</small><table border=\"1\" class=\"dataframe\"><thead><tr><th>lp</th><th>src</th><th>mt</th><th>ref</th><th>raw</th><th>domain</th><th>year</th><th>sents</th></tr><tr><td>str</td><td>str</td><td>str</td><td>str</td><td>f64</td><td>str</td><td>i64</td><td>i32</td></tr></thead><tbody><tr><td>&quot;de-en&quot;</td><td>&quot;Flüchtlingsboot gekentert: Baby und Kleinkinder ertrinken in Ägäis Inzwischen ist diese Veranstaltung ein fester Bestandteil im musikalischen Veranstaltungskalender in Nottuln geworden&quot;, freut sich Hanns Moormann, Vorsitzender des Nottulner Heimatvereins. Der 57-Jährige trainiert den mexikanischen C…</td><td>&quot;Refugee boat capsized: Baby and toddlers drown in Aegean Sea Meanwhile, this event has become an integral part of the musical event calendar in Nottuln, &quot;is pleased to be the chairman of the Nottulner Home Association. The 57-year-old has been coaching the Mexican club since early September. Accordi…</td><td>&quot;Refugee Boat Capsized: Baby and Small Children Drown in the Aegean This event has now become a fixture in the musical event calendar in Nottuln,” says Hanns Moormann, chairman of the Nottuln Home Association, pleased. Since the beginning of September the 57-year-old has been training the Mexican clu…</td><td>0.547435</td><td>&quot;news&quot;</td><td>2020</td><td>16</td></tr><tr><td>&quot;de-en&quot;</td><td>&quot;Spannung vor Ratssitzung: City-Ost und Lärmschutz stehen noch vor großer Sommerpause zur Diskussion Nach Angaben der Feuerwehr war am Mittwoch (Ortszeit) noch ein Verletzter in kritischem Zustand. Neues Überschallflugzeug soll 2030 fliegen: In viereinhalb Stunden von London nach Sydney Ein Zuspiel v…</td><td>&quot;Tension before council meeting: City-Ost and noise protection are still up for discussion before the big summer break According to the fire service, an injured person was still in critical condition on Wednesday (local time). New supersonic plane to fly in 2030: From London to Sydney in four and a h…</td><td>&quot;Tensions before the council meeting: City-East and noise protection are still up for debate before the long summer break. According to information from the fire department, one injured person was still in a critical condition on Wednesday (local time). New Supersonic Aircraft to fly in 2030: Four an…</td><td>0.71529</td><td>&quot;news&quot;</td><td>2021</td><td>16</td></tr><tr><td>&quot;zh-en&quot;</td><td>&quot;巴姆表示：“这是一次文化、心态和实质上的改变。” 摩洛哥司法部门正在对此案展开进一步调查。 正因如此，法国媒体评价他是“法国在世界舞台上的杰出代表 ” 。 遭到驱逐后，这家人一直在搬家，据说目前住在私人住宅 完成该项作业需把北部高架引桥南移700毫米。 他提及，香港今年第二季度经济状况仍十分严峻，但收缩的态势似乎略为放缓。 刘长宝说，为避免索头端位置出现重叠和“打架”等问题，还将创新采用“双叉耳”索头结构，通过特制的固定插件确保“打架”的索头收束在正确的位置。 为确保通航安全，重庆海事部门决定，对长江界石盘至观音滩水域实施临时交通管制。。 自去年以来，国电集团共计有163套风电项目陆续从连云港…</td><td>&quot;&quot;This is a cultural, psychological and substantive change,&quot; said Bam. The Moroccan judicial department is launching a further investigation into the case. For this reason, the French media rated him as &quot;an outstanding representative of France on the world stage&quot;. After being exported, the family had…</td><td>&quot;&quot;A cultural change, a mental change, a physical change,&quot; Bam said. The judicial department of Morocco is conducting further investigations into this case. For this reason, the French media hailed him as &quot;France&#x27;s outstanding representative in the international arena.&quot; The family have now been moved …</td><td>0.736477</td><td>&quot;news&quot;</td><td>2017</td><td>32</td></tr></tbody></table></div>"
            ]
          },
          "metadata": {}
        }
      ]
    },
    {
      "cell_type": "markdown",
      "source": [
        "# Create HF Dataset"
      ],
      "metadata": {
        "id": "C8N5bryshWtB"
      }
    },
    {
      "cell_type": "code",
      "source": [
        "# Case 2: dataset from Polars dataframe\n",
        "from datasets import Dataset, DatasetDict\n",
        "\n",
        "dataset_train = Dataset.from_polars(df_scored_train)\n",
        "dataset_test = Dataset.from_polars(df_scored_test)\n",
        "\n",
        "dataset = DatasetDict({\n",
        "    \"train\": dataset_train,\n",
        "    \"test\": dataset_test\n",
        "})\n",
        "\n",
        "dataset"
      ],
      "metadata": {
        "colab": {
          "base_uri": "https://localhost:8080/"
        },
        "id": "1HzxY5qtw0x_",
        "outputId": "53fa5dd0-a931-49e9-b0ef-3d16ec0f3c7f"
      },
      "execution_count": null,
      "outputs": [
        {
          "output_type": "execute_result",
          "data": {
            "text/plain": [
              "DatasetDict({\n",
              "    train: Dataset({\n",
              "        features: ['lp', 'src', 'mt', 'ref', 'raw', 'domain', 'year', 'sents'],\n",
              "        num_rows: 7650371\n",
              "    })\n",
              "    test: Dataset({\n",
              "        features: ['lp', 'src', 'mt', 'ref', 'raw', 'domain', 'year', 'sents'],\n",
              "        num_rows: 59176\n",
              "    })\n",
              "})"
            ]
          },
          "metadata": {},
          "execution_count": 7
        }
      ]
    },
    {
      "cell_type": "code",
      "source": [
        "commit_message = \"WMT long-context DA eval\"\n",
        "commit_description=\"WMT DA human evaluation dataset augmented into 2 to 32 sentences\"\n",
        "\n",
        "user = \"user_name\"  # change\n",
        "\n",
        "dataset.push_to_hub(f\"{user}/wmt-da-human-evaluation-long-context\",\n",
        "                    data_dir=\"data\",\n",
        "                    private=True,\n",
        "                    commit_message=commit_message,\n",
        "                    commit_description=commit_description\n",
        "                    )"
      ],
      "metadata": {
        "id": "HocKPQlNxC5b"
      },
      "execution_count": null,
      "outputs": []
    }
  ]
}